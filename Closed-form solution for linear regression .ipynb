{
 "cells": [
  {
   "cell_type": "code",
   "execution_count": 2,
   "id": "fdf69bc1-d9eb-4889-9af8-f7300ca81dbe",
   "metadata": {},
   "outputs": [
    {
     "name": "stdout",
     "output_type": "stream",
     "text": [
      "Requirement already satisfied: sympy in c:\\users\\user\\appdata\\local\\programs\\python\\python312\\lib\\site-packages (1.13.2)\n",
      "Requirement already satisfied: mpmath<1.4,>=1.1.0 in c:\\users\\user\\appdata\\local\\programs\\python\\python312\\lib\\site-packages (from sympy) (1.3.0)\n"
     ]
    },
    {
     "name": "stderr",
     "output_type": "stream",
     "text": [
      "\n",
      "[notice] A new release of pip is available: 24.0 -> 24.2\n",
      "[notice] To update, run: python.exe -m pip install --upgrade pip\n"
     ]
    }
   ],
   "source": [
    "!pip install sympy"
   ]
  },
  {
   "cell_type": "code",
   "execution_count": 3,
   "id": "eedf4371-1e0c-4dd1-89bf-504e941adf64",
   "metadata": {},
   "outputs": [],
   "source": [
    "from sympy import Matrix"
   ]
  },
  {
   "cell_type": "code",
   "execution_count": 14,
   "id": "65e74074-b97a-45f9-b6c0-7ec06a30e229",
   "metadata": {},
   "outputs": [],
   "source": [
    "# Define the matrix X with an intercept term (column of ones)\n",
    "X = Matrix([\n",
    "    [1, 1],  # the first column represents the feature values and the second column is a column of ones (intercept term).\n",
    "    [2, 1],\n",
    "    [3, 1],\n",
    "    [4, 1],\n",
    "    [5, 1]\n",
    "])"
   ]
  },
  {
   "cell_type": "code",
   "execution_count": 10,
   "id": "00717f5c-3b2f-48de-8038-76867acdd7cc",
   "metadata": {},
   "outputs": [],
   "source": [
    "# Define the observed values matrix Y\n",
    "Y = Matrix([\n",
    "    [2],\n",
    "    [4],\n",
    "    [6],\n",
    "    [8],\n",
    "    [10]\n",
    "])"
   ]
  },
  {
   "cell_type": "code",
   "execution_count": 11,
   "id": "758eb5c0-ba8b-453f-a99f-cc23caf37a01",
   "metadata": {},
   "outputs": [
    {
     "name": "stdout",
     "output_type": "stream",
     "text": [
      "Matrix X = Matrix([[1, 1], [2, 1], [3, 1], [4, 1], [5, 1]])\n",
      "Matrix Y = Matrix([[2], [4], [6], [8], [10]])\n"
     ]
    }
   ],
   "source": [
    "print(f\"Matrix X = {X}\")\n",
    "print(f\"Matrix Y = {Y}\")"
   ]
  },
  {
   "cell_type": "code",
   "execution_count": 12,
   "id": "64c2ce51-8ef9-4ba2-bfda-f70ec97bfbd2",
   "metadata": {},
   "outputs": [
    {
     "name": "stdout",
     "output_type": "stream",
     "text": [
      "Matrix X transpose = Matrix([[1, 2, 3, 4, 5], [1, 1, 1, 1, 1]])\n",
      "Matrix X * Xt transpose = Matrix([[55, 15], [15, 5]])\n"
     ]
    }
   ],
   "source": [
    "# Finding the transpose of matrix X\n",
    "Xt = X.T\n",
    "print(f\"Matrix X transpose = {Xt}\")\n",
    "\n",
    "# Multiplying X transpose with X\n",
    "XtX = Xt * X\n",
    "print(f\"Matrix X * Xt transpose = {XtX}\")"
   ]
  },
  {
   "cell_type": "code",
   "execution_count": 13,
   "id": "b5483873-ee54-4735-aa3f-1e83719f6038",
   "metadata": {},
   "outputs": [
    {
     "name": "stdout",
     "output_type": "stream",
     "text": [
      "Determinant of XtX = 50\n",
      "Inverse of Matrix X * Xt transpose = Matrix([[1/10, -3/10], [-3/10, 11/10]])\n",
      "Theta = Matrix([[2], [0]])\n"
     ]
    }
   ],
   "source": [
    "# Checking if XtX is invertible by its determinant\n",
    "determinant = XtX.det()\n",
    "print(f\"Determinant of XtX = {determinant}\")\n",
    "\n",
    "if determinant != 0:\n",
    "    XtXinv = XtX.inv()\n",
    "    print(f\"Inverse of Matrix X * Xt transpose = {XtXinv}\")\n",
    "\n",
    "    # Finding the coefficients of regression as a matrix theta\n",
    "    theta = XtXinv * Xt * Y\n",
    "    print(f\"Theta = {theta}\")\n",
    "else:\n",
    "    print(\"Matrix X * Xt transpose is not invertible. Cannot compute theta.\")"
   ]
  },
  {
   "cell_type": "code",
   "execution_count": null,
   "id": "dc44c596-fe6a-4e0a-b0b3-ddffb8b35f4c",
   "metadata": {},
   "outputs": [],
   "source": []
  }
 ],
 "metadata": {
  "kernelspec": {
   "display_name": "Python 3 (ipykernel)",
   "language": "python",
   "name": "python3"
  },
  "language_info": {
   "codemirror_mode": {
    "name": "ipython",
    "version": 3
   },
   "file_extension": ".py",
   "mimetype": "text/x-python",
   "name": "python",
   "nbconvert_exporter": "python",
   "pygments_lexer": "ipython3",
   "version": "3.12.3"
  }
 },
 "nbformat": 4,
 "nbformat_minor": 5
}
